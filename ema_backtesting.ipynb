{
 "cells": [
  {
   "cell_type": "code",
   "execution_count": 1,
   "id": "79a82d18",
   "metadata": {},
   "outputs": [],
   "source": [
    "import FinancialInstrument as fi"
   ]
  },
  {
   "cell_type": "code",
   "execution_count": 2,
   "id": "0048c937",
   "metadata": {},
   "outputs": [
    {
     "name": "stdout",
     "output_type": "stream",
     "text": [
      "[*********************100%***********************]  1 of 1 completed\n"
     ]
    }
   ],
   "source": [
    "eur_usd = fi.EMABackTester('EURUSD=X', 50, 200, '2010-01-01', '2021-11-20')"
   ]
  },
  {
   "cell_type": "code",
   "execution_count": 3,
   "id": "2cbf33e5",
   "metadata": {},
   "outputs": [
    {
     "data": {
      "text/html": [
       "<div>\n",
       "<style scoped>\n",
       "    .dataframe tbody tr th:only-of-type {\n",
       "        vertical-align: middle;\n",
       "    }\n",
       "\n",
       "    .dataframe tbody tr th {\n",
       "        vertical-align: top;\n",
       "    }\n",
       "\n",
       "    .dataframe thead th {\n",
       "        text-align: right;\n",
       "    }\n",
       "</style>\n",
       "<table border=\"1\" class=\"dataframe\">\n",
       "  <thead>\n",
       "    <tr style=\"text-align: right;\">\n",
       "      <th></th>\n",
       "      <th>price</th>\n",
       "      <th>returns</th>\n",
       "      <th>EMA_S</th>\n",
       "      <th>EMA_L</th>\n",
       "    </tr>\n",
       "    <tr>\n",
       "      <th>Date</th>\n",
       "      <th></th>\n",
       "      <th></th>\n",
       "      <th></th>\n",
       "      <th></th>\n",
       "    </tr>\n",
       "  </thead>\n",
       "  <tbody>\n",
       "    <tr>\n",
       "      <th>2010-01-01</th>\n",
       "      <td>1.438994</td>\n",
       "      <td>NaN</td>\n",
       "      <td>NaN</td>\n",
       "      <td>NaN</td>\n",
       "    </tr>\n",
       "    <tr>\n",
       "      <th>2010-01-04</th>\n",
       "      <td>1.442398</td>\n",
       "      <td>0.002363</td>\n",
       "      <td>NaN</td>\n",
       "      <td>NaN</td>\n",
       "    </tr>\n",
       "    <tr>\n",
       "      <th>2010-01-05</th>\n",
       "      <td>1.436596</td>\n",
       "      <td>-0.004031</td>\n",
       "      <td>NaN</td>\n",
       "      <td>NaN</td>\n",
       "    </tr>\n",
       "    <tr>\n",
       "      <th>2010-01-06</th>\n",
       "      <td>1.440403</td>\n",
       "      <td>0.002647</td>\n",
       "      <td>NaN</td>\n",
       "      <td>NaN</td>\n",
       "    </tr>\n",
       "    <tr>\n",
       "      <th>2010-01-07</th>\n",
       "      <td>1.431803</td>\n",
       "      <td>-0.005989</td>\n",
       "      <td>NaN</td>\n",
       "      <td>NaN</td>\n",
       "    </tr>\n",
       "    <tr>\n",
       "      <th>...</th>\n",
       "      <td>...</td>\n",
       "      <td>...</td>\n",
       "      <td>...</td>\n",
       "      <td>...</td>\n",
       "    </tr>\n",
       "    <tr>\n",
       "      <th>2021-11-15</th>\n",
       "      <td>1.144165</td>\n",
       "      <td>-0.000801</td>\n",
       "      <td>1.163454</td>\n",
       "      <td>1.178891</td>\n",
       "    </tr>\n",
       "    <tr>\n",
       "      <th>2021-11-16</th>\n",
       "      <td>1.136648</td>\n",
       "      <td>-0.006592</td>\n",
       "      <td>1.162403</td>\n",
       "      <td>1.178471</td>\n",
       "    </tr>\n",
       "    <tr>\n",
       "      <th>2021-11-17</th>\n",
       "      <td>1.132118</td>\n",
       "      <td>-0.003993</td>\n",
       "      <td>1.161215</td>\n",
       "      <td>1.178010</td>\n",
       "    </tr>\n",
       "    <tr>\n",
       "      <th>2021-11-18</th>\n",
       "      <td>1.132118</td>\n",
       "      <td>0.000000</td>\n",
       "      <td>1.160074</td>\n",
       "      <td>1.177553</td>\n",
       "    </tr>\n",
       "    <tr>\n",
       "      <th>2021-11-19</th>\n",
       "      <td>1.136842</td>\n",
       "      <td>0.004163</td>\n",
       "      <td>1.159163</td>\n",
       "      <td>1.177148</td>\n",
       "    </tr>\n",
       "  </tbody>\n",
       "</table>\n",
       "<p>3096 rows × 4 columns</p>\n",
       "</div>"
      ],
      "text/plain": [
       "               price   returns     EMA_S     EMA_L\n",
       "Date                                              \n",
       "2010-01-01  1.438994       NaN       NaN       NaN\n",
       "2010-01-04  1.442398  0.002363       NaN       NaN\n",
       "2010-01-05  1.436596 -0.004031       NaN       NaN\n",
       "2010-01-06  1.440403  0.002647       NaN       NaN\n",
       "2010-01-07  1.431803 -0.005989       NaN       NaN\n",
       "...              ...       ...       ...       ...\n",
       "2021-11-15  1.144165 -0.000801  1.163454  1.178891\n",
       "2021-11-16  1.136648 -0.006592  1.162403  1.178471\n",
       "2021-11-17  1.132118 -0.003993  1.161215  1.178010\n",
       "2021-11-18  1.132118  0.000000  1.160074  1.177553\n",
       "2021-11-19  1.136842  0.004163  1.159163  1.177148\n",
       "\n",
       "[3096 rows x 4 columns]"
      ]
     },
     "execution_count": 3,
     "metadata": {},
     "output_type": "execute_result"
    }
   ],
   "source": [
    "eur_usd.data"
   ]
  },
  {
   "cell_type": "code",
   "execution_count": 5,
   "id": "18f9f0ac",
   "metadata": {},
   "outputs": [
    {
     "name": "stdout",
     "output_type": "stream",
     "text": [
      "[*********************100%***********************]  1 of 1 completed\n"
     ]
    }
   ],
   "source": [
    "eur_usd = fi.EMABackTester('EURUSD=X', 50, 200)"
   ]
  },
  {
   "cell_type": "code",
   "execution_count": 6,
   "id": "e0aa16a1",
   "metadata": {},
   "outputs": [
    {
     "data": {
      "text/plain": [
       "EMABackTester(ticker = EURUSD=X, start = None, end = None)"
      ]
     },
     "execution_count": 6,
     "metadata": {},
     "output_type": "execute_result"
    }
   ],
   "source": [
    "eur_usd"
   ]
  },
  {
   "cell_type": "code",
   "execution_count": 7,
   "id": "85fc7c7c",
   "metadata": {},
   "outputs": [
    {
     "data": {
      "text/html": [
       "<div>\n",
       "<style scoped>\n",
       "    .dataframe tbody tr th:only-of-type {\n",
       "        vertical-align: middle;\n",
       "    }\n",
       "\n",
       "    .dataframe tbody tr th {\n",
       "        vertical-align: top;\n",
       "    }\n",
       "\n",
       "    .dataframe thead th {\n",
       "        text-align: right;\n",
       "    }\n",
       "</style>\n",
       "<table border=\"1\" class=\"dataframe\">\n",
       "  <thead>\n",
       "    <tr style=\"text-align: right;\">\n",
       "      <th></th>\n",
       "      <th>price</th>\n",
       "      <th>returns</th>\n",
       "      <th>EMA_S</th>\n",
       "      <th>EMA_L</th>\n",
       "    </tr>\n",
       "    <tr>\n",
       "      <th>Date</th>\n",
       "      <th></th>\n",
       "      <th></th>\n",
       "      <th></th>\n",
       "      <th></th>\n",
       "    </tr>\n",
       "  </thead>\n",
       "  <tbody>\n",
       "    <tr>\n",
       "      <th>2003-12-01</th>\n",
       "      <td>1.196501</td>\n",
       "      <td>NaN</td>\n",
       "      <td>NaN</td>\n",
       "      <td>NaN</td>\n",
       "    </tr>\n",
       "    <tr>\n",
       "      <th>2003-12-02</th>\n",
       "      <td>1.208897</td>\n",
       "      <td>0.010307</td>\n",
       "      <td>NaN</td>\n",
       "      <td>NaN</td>\n",
       "    </tr>\n",
       "    <tr>\n",
       "      <th>2003-12-03</th>\n",
       "      <td>1.212298</td>\n",
       "      <td>0.002809</td>\n",
       "      <td>NaN</td>\n",
       "      <td>NaN</td>\n",
       "    </tr>\n",
       "    <tr>\n",
       "      <th>2003-12-04</th>\n",
       "      <td>1.208094</td>\n",
       "      <td>-0.003473</td>\n",
       "      <td>NaN</td>\n",
       "      <td>NaN</td>\n",
       "    </tr>\n",
       "    <tr>\n",
       "      <th>2003-12-05</th>\n",
       "      <td>1.218695</td>\n",
       "      <td>0.008736</td>\n",
       "      <td>NaN</td>\n",
       "      <td>NaN</td>\n",
       "    </tr>\n",
       "    <tr>\n",
       "      <th>...</th>\n",
       "      <td>...</td>\n",
       "      <td>...</td>\n",
       "      <td>...</td>\n",
       "      <td>...</td>\n",
       "    </tr>\n",
       "    <tr>\n",
       "      <th>2021-11-15</th>\n",
       "      <td>1.144165</td>\n",
       "      <td>-0.000801</td>\n",
       "      <td>1.163454</td>\n",
       "      <td>1.178891</td>\n",
       "    </tr>\n",
       "    <tr>\n",
       "      <th>2021-11-16</th>\n",
       "      <td>1.136648</td>\n",
       "      <td>-0.006592</td>\n",
       "      <td>1.162403</td>\n",
       "      <td>1.178471</td>\n",
       "    </tr>\n",
       "    <tr>\n",
       "      <th>2021-11-17</th>\n",
       "      <td>1.132118</td>\n",
       "      <td>-0.003993</td>\n",
       "      <td>1.161215</td>\n",
       "      <td>1.178010</td>\n",
       "    </tr>\n",
       "    <tr>\n",
       "      <th>2021-11-18</th>\n",
       "      <td>1.132118</td>\n",
       "      <td>0.000000</td>\n",
       "      <td>1.160074</td>\n",
       "      <td>1.177553</td>\n",
       "    </tr>\n",
       "    <tr>\n",
       "      <th>2021-11-19</th>\n",
       "      <td>1.136842</td>\n",
       "      <td>0.004163</td>\n",
       "      <td>1.159163</td>\n",
       "      <td>1.177148</td>\n",
       "    </tr>\n",
       "  </tbody>\n",
       "</table>\n",
       "<p>4661 rows × 4 columns</p>\n",
       "</div>"
      ],
      "text/plain": [
       "               price   returns     EMA_S     EMA_L\n",
       "Date                                              \n",
       "2003-12-01  1.196501       NaN       NaN       NaN\n",
       "2003-12-02  1.208897  0.010307       NaN       NaN\n",
       "2003-12-03  1.212298  0.002809       NaN       NaN\n",
       "2003-12-04  1.208094 -0.003473       NaN       NaN\n",
       "2003-12-05  1.218695  0.008736       NaN       NaN\n",
       "...              ...       ...       ...       ...\n",
       "2021-11-15  1.144165 -0.000801  1.163454  1.178891\n",
       "2021-11-16  1.136648 -0.006592  1.162403  1.178471\n",
       "2021-11-17  1.132118 -0.003993  1.161215  1.178010\n",
       "2021-11-18  1.132118  0.000000  1.160074  1.177553\n",
       "2021-11-19  1.136842  0.004163  1.159163  1.177148\n",
       "\n",
       "[4661 rows x 4 columns]"
      ]
     },
     "execution_count": 7,
     "metadata": {},
     "output_type": "execute_result"
    }
   ],
   "source": [
    "eur_usd.data"
   ]
  },
  {
   "cell_type": "code",
   "execution_count": 8,
   "id": "297e64d0",
   "metadata": {},
   "outputs": [
    {
     "data": {
      "text/plain": [
       "50"
      ]
     },
     "execution_count": 8,
     "metadata": {},
     "output_type": "execute_result"
    }
   ],
   "source": [
    "eur_usd.EMA_S"
   ]
  },
  {
   "cell_type": "code",
   "execution_count": 9,
   "id": "7cd1b4c4",
   "metadata": {},
   "outputs": [
    {
     "data": {
      "text/plain": [
       "200"
      ]
     },
     "execution_count": 9,
     "metadata": {},
     "output_type": "execute_result"
    }
   ],
   "source": [
    "eur_usd.EMA_L"
   ]
  },
  {
   "cell_type": "code",
   "execution_count": 10,
   "id": "81ecd620",
   "metadata": {},
   "outputs": [
    {
     "data": {
      "text/plain": [
       "price        0\n",
       "returns      1\n",
       "EMA_S       49\n",
       "EMA_L      199\n",
       "dtype: int64"
      ]
     },
     "execution_count": 10,
     "metadata": {},
     "output_type": "execute_result"
    }
   ],
   "source": [
    "eur_usd.data.isna().sum()"
   ]
  },
  {
   "cell_type": "code",
   "execution_count": 11,
   "id": "1e383f7c",
   "metadata": {},
   "outputs": [],
   "source": [
    "eur_usd.set_parameters(20,160)"
   ]
  },
  {
   "cell_type": "code",
   "execution_count": 12,
   "id": "cb92922c",
   "metadata": {},
   "outputs": [
    {
     "data": {
      "text/plain": [
       "20"
      ]
     },
     "execution_count": 12,
     "metadata": {},
     "output_type": "execute_result"
    }
   ],
   "source": [
    "eur_usd.EMA_S"
   ]
  },
  {
   "cell_type": "code",
   "execution_count": 13,
   "id": "c7a2dd06",
   "metadata": {},
   "outputs": [
    {
     "data": {
      "text/plain": [
       "160"
      ]
     },
     "execution_count": 13,
     "metadata": {},
     "output_type": "execute_result"
    }
   ],
   "source": [
    "eur_usd.EMA_L"
   ]
  },
  {
   "cell_type": "code",
   "execution_count": 14,
   "id": "f9cceb46",
   "metadata": {},
   "outputs": [
    {
     "data": {
      "text/plain": [
       "price        0\n",
       "returns      1\n",
       "EMA_S       19\n",
       "EMA_L      159\n",
       "dtype: int64"
      ]
     },
     "execution_count": 14,
     "metadata": {},
     "output_type": "execute_result"
    }
   ],
   "source": [
    "eur_usd.data.isna().sum()"
   ]
  },
  {
   "cell_type": "code",
   "execution_count": 15,
   "id": "7f7ec268",
   "metadata": {},
   "outputs": [
    {
     "data": {
      "text/html": [
       "<div>\n",
       "<style scoped>\n",
       "    .dataframe tbody tr th:only-of-type {\n",
       "        vertical-align: middle;\n",
       "    }\n",
       "\n",
       "    .dataframe tbody tr th {\n",
       "        vertical-align: top;\n",
       "    }\n",
       "\n",
       "    .dataframe thead th {\n",
       "        text-align: right;\n",
       "    }\n",
       "</style>\n",
       "<table border=\"1\" class=\"dataframe\">\n",
       "  <thead>\n",
       "    <tr style=\"text-align: right;\">\n",
       "      <th></th>\n",
       "      <th>price</th>\n",
       "      <th>returns</th>\n",
       "      <th>EMA_S</th>\n",
       "      <th>EMA_L</th>\n",
       "    </tr>\n",
       "    <tr>\n",
       "      <th>Date</th>\n",
       "      <th></th>\n",
       "      <th></th>\n",
       "      <th></th>\n",
       "      <th></th>\n",
       "    </tr>\n",
       "  </thead>\n",
       "  <tbody>\n",
       "    <tr>\n",
       "      <th>2003-12-01</th>\n",
       "      <td>1.196501</td>\n",
       "      <td>NaN</td>\n",
       "      <td>NaN</td>\n",
       "      <td>NaN</td>\n",
       "    </tr>\n",
       "    <tr>\n",
       "      <th>2003-12-02</th>\n",
       "      <td>1.208897</td>\n",
       "      <td>0.010307</td>\n",
       "      <td>NaN</td>\n",
       "      <td>NaN</td>\n",
       "    </tr>\n",
       "    <tr>\n",
       "      <th>2003-12-03</th>\n",
       "      <td>1.212298</td>\n",
       "      <td>0.002809</td>\n",
       "      <td>NaN</td>\n",
       "      <td>NaN</td>\n",
       "    </tr>\n",
       "    <tr>\n",
       "      <th>2003-12-04</th>\n",
       "      <td>1.208094</td>\n",
       "      <td>-0.003473</td>\n",
       "      <td>NaN</td>\n",
       "      <td>NaN</td>\n",
       "    </tr>\n",
       "    <tr>\n",
       "      <th>2003-12-05</th>\n",
       "      <td>1.218695</td>\n",
       "      <td>0.008736</td>\n",
       "      <td>NaN</td>\n",
       "      <td>NaN</td>\n",
       "    </tr>\n",
       "    <tr>\n",
       "      <th>...</th>\n",
       "      <td>...</td>\n",
       "      <td>...</td>\n",
       "      <td>...</td>\n",
       "      <td>...</td>\n",
       "    </tr>\n",
       "    <tr>\n",
       "      <th>2021-11-15</th>\n",
       "      <td>1.144165</td>\n",
       "      <td>-0.000801</td>\n",
       "      <td>1.156609</td>\n",
       "      <td>1.177679</td>\n",
       "    </tr>\n",
       "    <tr>\n",
       "      <th>2021-11-16</th>\n",
       "      <td>1.136648</td>\n",
       "      <td>-0.006592</td>\n",
       "      <td>1.154708</td>\n",
       "      <td>1.177170</td>\n",
       "    </tr>\n",
       "    <tr>\n",
       "      <th>2021-11-17</th>\n",
       "      <td>1.132118</td>\n",
       "      <td>-0.003993</td>\n",
       "      <td>1.152557</td>\n",
       "      <td>1.176610</td>\n",
       "    </tr>\n",
       "    <tr>\n",
       "      <th>2021-11-18</th>\n",
       "      <td>1.132118</td>\n",
       "      <td>0.000000</td>\n",
       "      <td>1.150610</td>\n",
       "      <td>1.176057</td>\n",
       "    </tr>\n",
       "    <tr>\n",
       "      <th>2021-11-19</th>\n",
       "      <td>1.136842</td>\n",
       "      <td>0.004163</td>\n",
       "      <td>1.149299</td>\n",
       "      <td>1.175570</td>\n",
       "    </tr>\n",
       "  </tbody>\n",
       "</table>\n",
       "<p>4661 rows × 4 columns</p>\n",
       "</div>"
      ],
      "text/plain": [
       "               price   returns     EMA_S     EMA_L\n",
       "Date                                              \n",
       "2003-12-01  1.196501       NaN       NaN       NaN\n",
       "2003-12-02  1.208897  0.010307       NaN       NaN\n",
       "2003-12-03  1.212298  0.002809       NaN       NaN\n",
       "2003-12-04  1.208094 -0.003473       NaN       NaN\n",
       "2003-12-05  1.218695  0.008736       NaN       NaN\n",
       "...              ...       ...       ...       ...\n",
       "2021-11-15  1.144165 -0.000801  1.156609  1.177679\n",
       "2021-11-16  1.136648 -0.006592  1.154708  1.177170\n",
       "2021-11-17  1.132118 -0.003993  1.152557  1.176610\n",
       "2021-11-18  1.132118  0.000000  1.150610  1.176057\n",
       "2021-11-19  1.136842  0.004163  1.149299  1.175570\n",
       "\n",
       "[4661 rows x 4 columns]"
      ]
     },
     "execution_count": 15,
     "metadata": {},
     "output_type": "execute_result"
    }
   ],
   "source": [
    "eur_usd.data"
   ]
  },
  {
   "cell_type": "code",
   "execution_count": 16,
   "id": "7b718534",
   "metadata": {},
   "outputs": [
    {
     "data": {
      "text/plain": [
       "(1.299298, 0.38389)"
      ]
     },
     "execution_count": 16,
     "metadata": {},
     "output_type": "execute_result"
    }
   ],
   "source": [
    "eur_usd.test_strategy()"
   ]
  },
  {
   "cell_type": "code",
   "execution_count": 17,
   "id": "4cc35ca9",
   "metadata": {},
   "outputs": [
    {
     "data": {
      "text/html": [
       "<div>\n",
       "<style scoped>\n",
       "    .dataframe tbody tr th:only-of-type {\n",
       "        vertical-align: middle;\n",
       "    }\n",
       "\n",
       "    .dataframe tbody tr th {\n",
       "        vertical-align: top;\n",
       "    }\n",
       "\n",
       "    .dataframe thead th {\n",
       "        text-align: right;\n",
       "    }\n",
       "</style>\n",
       "<table border=\"1\" class=\"dataframe\">\n",
       "  <thead>\n",
       "    <tr style=\"text-align: right;\">\n",
       "      <th></th>\n",
       "      <th>price</th>\n",
       "      <th>returns</th>\n",
       "      <th>EMA_S</th>\n",
       "      <th>EMA_L</th>\n",
       "      <th>position</th>\n",
       "      <th>strategy</th>\n",
       "      <th>creturns</th>\n",
       "      <th>cstrategy</th>\n",
       "    </tr>\n",
       "    <tr>\n",
       "      <th>Date</th>\n",
       "      <th></th>\n",
       "      <th></th>\n",
       "      <th></th>\n",
       "      <th></th>\n",
       "      <th></th>\n",
       "      <th></th>\n",
       "      <th></th>\n",
       "      <th></th>\n",
       "    </tr>\n",
       "  </thead>\n",
       "  <tbody>\n",
       "    <tr>\n",
       "      <th>2004-07-12</th>\n",
       "      <td>1.240803</td>\n",
       "      <td>-0.000881</td>\n",
       "      <td>1.225044</td>\n",
       "      <td>1.221212</td>\n",
       "      <td>1</td>\n",
       "      <td>-0.000881</td>\n",
       "      <td>0.999119</td>\n",
       "      <td>0.999119</td>\n",
       "    </tr>\n",
       "    <tr>\n",
       "      <th>2004-07-13</th>\n",
       "      <td>1.233304</td>\n",
       "      <td>-0.006062</td>\n",
       "      <td>1.225830</td>\n",
       "      <td>1.221385</td>\n",
       "      <td>1</td>\n",
       "      <td>-0.006062</td>\n",
       "      <td>0.993081</td>\n",
       "      <td>0.993081</td>\n",
       "    </tr>\n",
       "    <tr>\n",
       "      <th>2004-07-14</th>\n",
       "      <td>1.238497</td>\n",
       "      <td>0.004202</td>\n",
       "      <td>1.227037</td>\n",
       "      <td>1.221629</td>\n",
       "      <td>1</td>\n",
       "      <td>0.004202</td>\n",
       "      <td>0.997263</td>\n",
       "      <td>0.997263</td>\n",
       "    </tr>\n",
       "    <tr>\n",
       "      <th>2004-07-15</th>\n",
       "      <td>1.235605</td>\n",
       "      <td>-0.002338</td>\n",
       "      <td>1.227853</td>\n",
       "      <td>1.221828</td>\n",
       "      <td>1</td>\n",
       "      <td>-0.002338</td>\n",
       "      <td>0.994934</td>\n",
       "      <td>0.994934</td>\n",
       "    </tr>\n",
       "    <tr>\n",
       "      <th>2004-07-16</th>\n",
       "      <td>1.245594</td>\n",
       "      <td>0.008051</td>\n",
       "      <td>1.229542</td>\n",
       "      <td>1.222167</td>\n",
       "      <td>1</td>\n",
       "      <td>0.008051</td>\n",
       "      <td>1.002977</td>\n",
       "      <td>1.002977</td>\n",
       "    </tr>\n",
       "    <tr>\n",
       "      <th>...</th>\n",
       "      <td>...</td>\n",
       "      <td>...</td>\n",
       "      <td>...</td>\n",
       "      <td>...</td>\n",
       "      <td>...</td>\n",
       "      <td>...</td>\n",
       "      <td>...</td>\n",
       "      <td>...</td>\n",
       "    </tr>\n",
       "    <tr>\n",
       "      <th>2021-11-15</th>\n",
       "      <td>1.144165</td>\n",
       "      <td>-0.000801</td>\n",
       "      <td>1.156609</td>\n",
       "      <td>1.177679</td>\n",
       "      <td>-1</td>\n",
       "      <td>0.000801</td>\n",
       "      <td>0.921304</td>\n",
       "      <td>1.290981</td>\n",
       "    </tr>\n",
       "    <tr>\n",
       "      <th>2021-11-16</th>\n",
       "      <td>1.136648</td>\n",
       "      <td>-0.006592</td>\n",
       "      <td>1.154708</td>\n",
       "      <td>1.177170</td>\n",
       "      <td>-1</td>\n",
       "      <td>0.006592</td>\n",
       "      <td>0.915252</td>\n",
       "      <td>1.299519</td>\n",
       "    </tr>\n",
       "    <tr>\n",
       "      <th>2021-11-17</th>\n",
       "      <td>1.132118</td>\n",
       "      <td>-0.003993</td>\n",
       "      <td>1.152557</td>\n",
       "      <td>1.176610</td>\n",
       "      <td>-1</td>\n",
       "      <td>0.003993</td>\n",
       "      <td>0.911604</td>\n",
       "      <td>1.304718</td>\n",
       "    </tr>\n",
       "    <tr>\n",
       "      <th>2021-11-18</th>\n",
       "      <td>1.132118</td>\n",
       "      <td>0.000000</td>\n",
       "      <td>1.150610</td>\n",
       "      <td>1.176057</td>\n",
       "      <td>-1</td>\n",
       "      <td>-0.000000</td>\n",
       "      <td>0.911604</td>\n",
       "      <td>1.304718</td>\n",
       "    </tr>\n",
       "    <tr>\n",
       "      <th>2021-11-19</th>\n",
       "      <td>1.136842</td>\n",
       "      <td>0.004163</td>\n",
       "      <td>1.149299</td>\n",
       "      <td>1.175570</td>\n",
       "      <td>-1</td>\n",
       "      <td>-0.004163</td>\n",
       "      <td>0.915408</td>\n",
       "      <td>1.299298</td>\n",
       "    </tr>\n",
       "  </tbody>\n",
       "</table>\n",
       "<p>4501 rows × 8 columns</p>\n",
       "</div>"
      ],
      "text/plain": [
       "               price   returns     EMA_S     EMA_L  position  strategy  \\\n",
       "Date                                                                     \n",
       "2004-07-12  1.240803 -0.000881  1.225044  1.221212         1 -0.000881   \n",
       "2004-07-13  1.233304 -0.006062  1.225830  1.221385         1 -0.006062   \n",
       "2004-07-14  1.238497  0.004202  1.227037  1.221629         1  0.004202   \n",
       "2004-07-15  1.235605 -0.002338  1.227853  1.221828         1 -0.002338   \n",
       "2004-07-16  1.245594  0.008051  1.229542  1.222167         1  0.008051   \n",
       "...              ...       ...       ...       ...       ...       ...   \n",
       "2021-11-15  1.144165 -0.000801  1.156609  1.177679        -1  0.000801   \n",
       "2021-11-16  1.136648 -0.006592  1.154708  1.177170        -1  0.006592   \n",
       "2021-11-17  1.132118 -0.003993  1.152557  1.176610        -1  0.003993   \n",
       "2021-11-18  1.132118  0.000000  1.150610  1.176057        -1 -0.000000   \n",
       "2021-11-19  1.136842  0.004163  1.149299  1.175570        -1 -0.004163   \n",
       "\n",
       "            creturns  cstrategy  \n",
       "Date                             \n",
       "2004-07-12  0.999119   0.999119  \n",
       "2004-07-13  0.993081   0.993081  \n",
       "2004-07-14  0.997263   0.997263  \n",
       "2004-07-15  0.994934   0.994934  \n",
       "2004-07-16  1.002977   1.002977  \n",
       "...              ...        ...  \n",
       "2021-11-15  0.921304   1.290981  \n",
       "2021-11-16  0.915252   1.299519  \n",
       "2021-11-17  0.911604   1.304718  \n",
       "2021-11-18  0.911604   1.304718  \n",
       "2021-11-19  0.915408   1.299298  \n",
       "\n",
       "[4501 rows x 8 columns]"
      ]
     },
     "execution_count": 17,
     "metadata": {},
     "output_type": "execute_result"
    }
   ],
   "source": [
    "eur_usd.results"
   ]
  },
  {
   "cell_type": "code",
   "execution_count": 18,
   "id": "9a3d77f1",
   "metadata": {},
   "outputs": [
    {
     "data": {
      "image/png": "[encoded data removed]",
      "text/plain": [
       "<Figure size 864x576 with 1 Axes>"
      ]
     },
     "metadata": {},
     "output_type": "display_data"
    }
   ],
   "source": [
    "eur_usd.plot_results()"
   ]
  },
  {
   "cell_type": "code",
   "execution_count": 19,
   "id": "f2eabc13",
   "metadata": {},
   "outputs": [
    {
     "name": "stdout",
     "output_type": "stream",
     "text": [
      "[*********************100%***********************]  1 of 1 completed\n"
     ]
    }
   ],
   "source": [
    "tester = fi.EMABackTester(\"EURUSD=X\", 50, 200, \"2004-01-01\", \"2020-06-30\")"
   ]
  },
  {
   "cell_type": "code",
   "execution_count": 20,
   "id": "acb8c275",
   "metadata": {},
   "outputs": [
    {
     "data": {
      "text/plain": [
       "((36, 168), 1.667691)"
      ]
     },
     "execution_count": 20,
     "metadata": {},
     "output_type": "execute_result"
    }
   ],
   "source": [
    "tester.optimize_parameters((10, 50, 1), (100, 300, 1))"
   ]
  },
  {
   "cell_type": "code",
   "execution_count": 21,
   "id": "7c7c9f74",
   "metadata": {},
   "outputs": [
    {
     "data": {
      "image/png": "[encoded data removed]",
      "text/plain": [
       "<Figure size 864x576 with 1 Axes>"
      ]
     },
     "metadata": {},
     "output_type": "display_data"
    }
   ],
   "source": [
    "tester.plot_results()"
   ]
  },
  {
   "cell_type": "code",
   "execution_count": null,
   "id": "cfe23e26",
   "metadata": {},
   "outputs": [],
   "source": []
  }
 ],
 "metadata": {
  "kernelspec": {
   "display_name": "Python 3",
   "language": "python",
   "name": "python3"
  },
  "language_info": {
   "codemirror_mode": {
    "name": "ipython",
    "version": 3
   },
   "file_extension": ".py",
   "mimetype": "text/x-python",
   "name": "python",
   "nbconvert_exporter": "python",
   "pygments_lexer": "ipython3",
   "version": "3.8.8"
  }
 },
 "nbformat": 4,
 "nbformat_minor": 5
}
